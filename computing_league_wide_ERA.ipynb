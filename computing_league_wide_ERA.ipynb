{
 "cells": [
  {
   "cell_type": "code",
   "execution_count": 2,
   "id": "a96b24bd-5a4b-4d76-aa86-d597df5d6062",
   "metadata": {},
   "outputs": [],
   "source": [
    "import polars as pl\n",
    "pl.Config.with_columns_kwargs = True"
   ]
  },
  {
   "cell_type": "code",
   "execution_count": 3,
   "id": "d363eeec-dba6-4d20-b56f-ec91ebbce1e1",
   "metadata": {},
   "outputs": [
    {
     "data": {
      "text/html": [
       "<div><style>\n",
       ".dataframe > thead > tr,\n",
       ".dataframe > tbody > tr {\n",
       "  text-align: right;\n",
       "  white-space: pre-wrap;\n",
       "}\n",
       "</style>\n",
       "<small>shape: (5, 30)</small><table border=\"1\" class=\"dataframe\"><thead><tr><th>playerID</th><th>yearID</th><th>stint</th><th>teamID</th><th>lgID</th><th>W</th><th>L</th><th>G</th><th>GS</th><th>CG</th><th>SHO</th><th>SV</th><th>IPouts</th><th>H</th><th>ER</th><th>HR</th><th>BB</th><th>SO</th><th>BAOpp</th><th>ERA</th><th>IBB</th><th>WP</th><th>HBP</th><th>BK</th><th>BFP</th><th>GF</th><th>R</th><th>SH</th><th>SF</th><th>GIDP</th></tr><tr><td>str</td><td>i64</td><td>i64</td><td>str</td><td>str</td><td>i64</td><td>i64</td><td>i64</td><td>i64</td><td>i64</td><td>i64</td><td>i64</td><td>i64</td><td>i64</td><td>i64</td><td>i64</td><td>i64</td><td>i64</td><td>f64</td><td>f64</td><td>i64</td><td>i64</td><td>i64</td><td>i64</td><td>i64</td><td>i64</td><td>i64</td><td>i64</td><td>i64</td><td>i64</td></tr></thead><tbody><tr><td>&quot;aardsda01&quot;</td><td>2004</td><td>1</td><td>&quot;SFN&quot;</td><td>&quot;NL&quot;</td><td>1</td><td>0</td><td>11</td><td>0</td><td>0</td><td>0</td><td>0</td><td>32</td><td>20</td><td>8</td><td>1</td><td>10</td><td>5</td><td>0.417</td><td>6.75</td><td>0</td><td>0</td><td>2</td><td>0</td><td>61</td><td>5</td><td>8</td><td>0</td><td>1</td><td>1</td></tr><tr><td>&quot;aardsda01&quot;</td><td>2006</td><td>1</td><td>&quot;CHN&quot;</td><td>&quot;NL&quot;</td><td>3</td><td>0</td><td>45</td><td>0</td><td>0</td><td>0</td><td>0</td><td>159</td><td>41</td><td>24</td><td>9</td><td>28</td><td>49</td><td>0.214</td><td>4.08</td><td>0</td><td>1</td><td>1</td><td>0</td><td>225</td><td>9</td><td>25</td><td>1</td><td>3</td><td>2</td></tr><tr><td>&quot;aardsda01&quot;</td><td>2007</td><td>1</td><td>&quot;CHA&quot;</td><td>&quot;AL&quot;</td><td>2</td><td>1</td><td>25</td><td>0</td><td>0</td><td>0</td><td>0</td><td>97</td><td>39</td><td>23</td><td>4</td><td>17</td><td>36</td><td>0.3</td><td>6.4</td><td>3</td><td>2</td><td>1</td><td>0</td><td>151</td><td>7</td><td>24</td><td>2</td><td>1</td><td>1</td></tr><tr><td>&quot;aardsda01&quot;</td><td>2008</td><td>1</td><td>&quot;BOS&quot;</td><td>&quot;AL&quot;</td><td>4</td><td>2</td><td>47</td><td>0</td><td>0</td><td>0</td><td>0</td><td>146</td><td>49</td><td>30</td><td>4</td><td>35</td><td>49</td><td>0.268</td><td>5.55</td><td>2</td><td>3</td><td>5</td><td>0</td><td>228</td><td>7</td><td>32</td><td>3</td><td>2</td><td>4</td></tr><tr><td>&quot;aardsda01&quot;</td><td>2009</td><td>1</td><td>&quot;SEA&quot;</td><td>&quot;AL&quot;</td><td>3</td><td>6</td><td>73</td><td>0</td><td>0</td><td>0</td><td>38</td><td>214</td><td>49</td><td>20</td><td>4</td><td>34</td><td>80</td><td>0.19</td><td>2.52</td><td>3</td><td>2</td><td>0</td><td>0</td><td>296</td><td>53</td><td>23</td><td>2</td><td>1</td><td>2</td></tr></tbody></table></div>"
      ],
      "text/plain": [
       "shape: (5, 30)\n",
       "┌───────────┬────────┬───────┬────────┬───┬─────┬─────┬─────┬──────┐\n",
       "│ playerID  ┆ yearID ┆ stint ┆ teamID ┆ … ┆ R   ┆ SH  ┆ SF  ┆ GIDP │\n",
       "│ ---       ┆ ---    ┆ ---   ┆ ---    ┆   ┆ --- ┆ --- ┆ --- ┆ ---  │\n",
       "│ str       ┆ i64    ┆ i64   ┆ str    ┆   ┆ i64 ┆ i64 ┆ i64 ┆ i64  │\n",
       "╞═══════════╪════════╪═══════╪════════╪═══╪═════╪═════╪═════╪══════╡\n",
       "│ aardsda01 ┆ 2004   ┆ 1     ┆ SFN    ┆ … ┆ 8   ┆ 0   ┆ 1   ┆ 1    │\n",
       "│ aardsda01 ┆ 2006   ┆ 1     ┆ CHN    ┆ … ┆ 25  ┆ 1   ┆ 3   ┆ 2    │\n",
       "│ aardsda01 ┆ 2007   ┆ 1     ┆ CHA    ┆ … ┆ 24  ┆ 2   ┆ 1   ┆ 1    │\n",
       "│ aardsda01 ┆ 2008   ┆ 1     ┆ BOS    ┆ … ┆ 32  ┆ 3   ┆ 2   ┆ 4    │\n",
       "│ aardsda01 ┆ 2009   ┆ 1     ┆ SEA    ┆ … ┆ 23  ┆ 2   ┆ 1   ┆ 2    │\n",
       "└───────────┴────────┴───────┴────────┴───┴─────┴─────┴─────┴──────┘"
      ]
     },
     "execution_count": 3,
     "metadata": {},
     "output_type": "execute_result"
    }
   ],
   "source": [
    "pitching = pl.read_csv('./Data/lahman_1871-2023_csv/Pitching.csv')\n",
    "pitching.head()"
   ]
  },
  {
   "cell_type": "code",
   "execution_count": 67,
   "id": "a6eeae3e-f85a-4a45-80c2-418433b0112e",
   "metadata": {},
   "outputs": [
    {
     "name": "stdout",
     "output_type": "stream",
     "text": [
      "shape: (10, 6)\n",
      "┌────────┬──────┬────────────┬────────────┬──────────┬─────┐\n",
      "│ yearID ┆ lgID ┆ total_runs ┆ total_outs ┆ era      ┆ DH  │\n",
      "│ ---    ┆ ---  ┆ ---        ┆ ---        ┆ ---      ┆ --- │\n",
      "│ i64    ┆ str  ┆ i64        ┆ i64        ┆ f64      ┆ str │\n",
      "╞════════╪══════╪════════════╪════════════╪══════════╪═════╡\n",
      "│ 1971   ┆ NL   ┆ 7601       ┆ 52427      ┆ 3.914529 ┆ no  │\n",
      "│ 1967   ┆ AL   ┆ 5992       ┆ 43805      ┆ 3.693277 ┆ no  │\n",
      "│ 1984   ┆ NL   ┆ 7894       ┆ 52274      ┆ 4.077323 ┆ no  │\n",
      "│ 1966   ┆ AL   ┆ 6276       ┆ 43478      ┆ 3.897419 ┆ no  │\n",
      "│ 1998   ┆ AL   ┆ 11354      ┆ 60584      ┆ 5.060049 ┆ yes │\n",
      "│ 1969   ┆ AL   ┆ 7960       ┆ 52510      ┆ 4.092935 ┆ no  │\n",
      "│ 1964   ┆ AL   ┆ 6607       ┆ 43845      ┆ 4.068628 ┆ no  │\n",
      "│ 1956   ┆ NL   ┆ 5275       ┆ 33190      ┆ 4.291202 ┆ no  │\n",
      "│ 1995   ┆ NL   ┆ 9329       ┆ 54168      ┆ 4.650033 ┆ no  │\n",
      "│ 2023   ┆ AL   ┆ 11110      ┆ 64733      ┆ 4.633958 ┆ yes │\n",
      "└────────┴──────┴────────────┴────────────┴──────────┴─────┘\n"
     ]
    }
   ],
   "source": [
    "league_era = (\n",
    "    pitching\n",
    "    .select(['yearID', 'lgID', 'IPouts', 'R'])\n",
    "    .filter(pl.col('yearID') >= 1946)\n",
    "    .group_by([pl.col('yearID'), pl.col('lgID')])\n",
    "    .agg(pl.col('R').sum().alias('total_runs'),\n",
    "         pl.col('IPouts').sum().alias('total_outs'))\n",
    "    .with_columns(era = (pl.col('total_runs') / pl.col('total_outs')) * 27)\n",
    "    .with_columns(\n",
    "        pl.when(pl.col('yearID') >= 1973)\n",
    "          .then(pl.when(pl.col('lgID') == 'AL')\n",
    "                  .then(pl.lit('yes'))\n",
    "                  .otherwise(pl.lit('no'))\n",
    "               )\n",
    "          .otherwise(pl.lit('no'))\n",
    "          .alias('DH')\n",
    "    )\n",
    ")\n",
    "league_era.write_csv('data/league_era_percentage.csv')\n",
    "print(league_era.head(10))\n"
   ]
  },
  {
   "cell_type": "code",
   "execution_count": 10,
   "id": "ac847679-6dd7-4300-bb18-254389e0192f",
   "metadata": {},
   "outputs": [
    {
     "data": {
      "text/html": [
       "<div><style>\n",
       ".dataframe > thead > tr,\n",
       ".dataframe > tbody > tr {\n",
       "  text-align: right;\n",
       "  white-space: pre-wrap;\n",
       "}\n",
       "</style>\n",
       "<small>shape: (5, 24)</small><table border=\"1\" class=\"dataframe\"><thead><tr><th>playerID</th><th>yearID</th><th>stint</th><th>teamID</th><th>lgID</th><th>G</th><th>G_batting</th><th>AB</th><th>R</th><th>H</th><th>2B</th><th>3B</th><th>HR</th><th>RBI</th><th>SB</th><th>CS</th><th>BB</th><th>SO</th><th>IBB</th><th>HBP</th><th>SH</th><th>SF</th><th>GIDP</th><th>G_old</th></tr><tr><td>str</td><td>i64</td><td>i64</td><td>str</td><td>str</td><td>i64</td><td>i64</td><td>i64</td><td>i64</td><td>i64</td><td>i64</td><td>i64</td><td>i64</td><td>i64</td><td>i64</td><td>i64</td><td>i64</td><td>i64</td><td>i64</td><td>i64</td><td>i64</td><td>i64</td><td>i64</td><td>str</td></tr></thead><tbody><tr><td>&quot;aardsda01&quot;</td><td>2004</td><td>1</td><td>&quot;SFN&quot;</td><td>&quot;NL&quot;</td><td>11</td><td>null</td><td>0</td><td>0</td><td>0</td><td>0</td><td>0</td><td>0</td><td>0</td><td>0</td><td>0</td><td>0</td><td>0</td><td>0</td><td>0</td><td>0</td><td>0</td><td>0</td><td>null</td></tr><tr><td>&quot;aardsda01&quot;</td><td>2006</td><td>1</td><td>&quot;CHN&quot;</td><td>&quot;NL&quot;</td><td>45</td><td>null</td><td>2</td><td>0</td><td>0</td><td>0</td><td>0</td><td>0</td><td>0</td><td>0</td><td>0</td><td>0</td><td>0</td><td>0</td><td>0</td><td>1</td><td>0</td><td>0</td><td>null</td></tr><tr><td>&quot;aardsda01&quot;</td><td>2007</td><td>1</td><td>&quot;CHA&quot;</td><td>&quot;AL&quot;</td><td>25</td><td>null</td><td>0</td><td>0</td><td>0</td><td>0</td><td>0</td><td>0</td><td>0</td><td>0</td><td>0</td><td>0</td><td>0</td><td>0</td><td>0</td><td>0</td><td>0</td><td>0</td><td>null</td></tr><tr><td>&quot;aardsda01&quot;</td><td>2008</td><td>1</td><td>&quot;BOS&quot;</td><td>&quot;AL&quot;</td><td>47</td><td>null</td><td>1</td><td>0</td><td>0</td><td>0</td><td>0</td><td>0</td><td>0</td><td>0</td><td>0</td><td>0</td><td>1</td><td>0</td><td>0</td><td>0</td><td>0</td><td>0</td><td>null</td></tr><tr><td>&quot;aardsda01&quot;</td><td>2009</td><td>1</td><td>&quot;SEA&quot;</td><td>&quot;AL&quot;</td><td>73</td><td>null</td><td>0</td><td>0</td><td>0</td><td>0</td><td>0</td><td>0</td><td>0</td><td>0</td><td>0</td><td>0</td><td>0</td><td>0</td><td>0</td><td>0</td><td>0</td><td>0</td><td>null</td></tr></tbody></table></div>"
      ],
      "text/plain": [
       "shape: (5, 24)\n",
       "┌───────────┬────────┬───────┬────────┬───┬─────┬─────┬──────┬───────┐\n",
       "│ playerID  ┆ yearID ┆ stint ┆ teamID ┆ … ┆ SH  ┆ SF  ┆ GIDP ┆ G_old │\n",
       "│ ---       ┆ ---    ┆ ---   ┆ ---    ┆   ┆ --- ┆ --- ┆ ---  ┆ ---   │\n",
       "│ str       ┆ i64    ┆ i64   ┆ str    ┆   ┆ i64 ┆ i64 ┆ i64  ┆ str   │\n",
       "╞═══════════╪════════╪═══════╪════════╪═══╪═════╪═════╪══════╪═══════╡\n",
       "│ aardsda01 ┆ 2004   ┆ 1     ┆ SFN    ┆ … ┆ 0   ┆ 0   ┆ 0    ┆ null  │\n",
       "│ aardsda01 ┆ 2006   ┆ 1     ┆ CHN    ┆ … ┆ 1   ┆ 0   ┆ 0    ┆ null  │\n",
       "│ aardsda01 ┆ 2007   ┆ 1     ┆ CHA    ┆ … ┆ 0   ┆ 0   ┆ 0    ┆ null  │\n",
       "│ aardsda01 ┆ 2008   ┆ 1     ┆ BOS    ┆ … ┆ 0   ┆ 0   ┆ 0    ┆ null  │\n",
       "│ aardsda01 ┆ 2009   ┆ 1     ┆ SEA    ┆ … ┆ 0   ┆ 0   ┆ 0    ┆ null  │\n",
       "└───────────┴────────┴───────┴────────┴───┴─────┴─────┴──────┴───────┘"
      ]
     },
     "execution_count": 10,
     "metadata": {},
     "output_type": "execute_result"
    }
   ],
   "source": [
    "batting = pl.read_csv('./Data/lahman_1871-2023_csv/Batting.csv')\n",
    "batting.head()"
   ]
  },
  {
   "cell_type": "code",
   "execution_count": 63,
   "id": "5049f4d6-d794-46f7-872c-f648bd9d443f",
   "metadata": {},
   "outputs": [
    {
     "name": "stdout",
     "output_type": "stream",
     "text": [
      "shape: (5, 6)\n",
      "┌────────┬──────┬─────────────┬───────────────┬─────────────────────┬─────┐\n",
      "│ yearID ┆ lgID ┆ total_bases ┆ total_at_bats ┆ Slugging_Percentage ┆ DH  │\n",
      "│ ---    ┆ ---  ┆ ---         ┆ ---           ┆ ---                 ┆ --- │\n",
      "│ i64    ┆ str  ┆ i64         ┆ i64           ┆ f64                 ┆ str │\n",
      "╞════════╪══════╪═════════════╪═══════════════╪═════════════════════╪═════╡\n",
      "│ 1960   ┆ AL   ┆ 16215       ┆ 41838         ┆ 0.387566            ┆ no  │\n",
      "│ 1981   ┆ AL   ┆ 18931       ┆ 50813         ┆ 0.372562            ┆ yes │\n",
      "│ 2001   ┆ AL   ┆ 33450       ┆ 78134         ┆ 0.428111            ┆ yes │\n",
      "│ 2018   ┆ AL   ┆ 34366       ┆ 82710         ┆ 0.4155              ┆ yes │\n",
      "│ 1973   ┆ NL   ┆ 24839       ┆ 66087         ┆ 0.375853            ┆ no  │\n",
      "└────────┴──────┴─────────────┴───────────────┴─────────────────────┴─────┘\n"
     ]
    }
   ],
   "source": [
    "league_slugging = (\n",
    "    batting\n",
    "    .select(['yearID', 'lgID', 'H', '2B', '3B', 'HR', 'AB'])\n",
    "    .filter(pl.col('yearID') >= 1946)\n",
    "    .with_columns(\n",
    "        # Calculate Total Bases\n",
    "        (pl.col('H') + \n",
    "         pl.col('2B') + \n",
    "         (2 * pl.col('3B')) + \n",
    "         (3 * pl.col('HR'))).alias('Total_Bases')\n",
    "    )\n",
    "    .group_by(['yearID', 'lgID'])\n",
    "    .agg([\n",
    "        pl.col('Total_Bases').sum().alias('total_bases'),\n",
    "        pl.col('AB').sum().alias('total_at_bats')\n",
    "    ])\n",
    "    .with_columns(\n",
    "        (pl.col('total_bases') / pl.col('total_at_bats')).alias('Slugging_Percentage')\n",
    "    )\n",
    "    .with_columns(\n",
    "        pl.when(pl.col('yearID') >= 2022)\n",
    "          .then(pl.lit('yes'))  # DH for both leagues since 2022\n",
    "          .when(pl.col('yearID') == 2020)\n",
    "          .then(pl.lit('yes'))  #  \n",
    "          .when(pl.col('yearID') >= 1973)\n",
    "          .then(pl.when(pl.col('lgID') == 'AL')\n",
    "                  .then(pl.lit('yes'))\n",
    "                  .otherwise(pl.lit('no'))\n",
    "               )\n",
    "          .otherwise(pl.lit('no'))\n",
    "          .alias('DH')\n",
    "    )\n",
    ")\n",
    "\n",
    "league_slugging.write_csv('data/league_slugging_percentage.csv')\n",
    "\n",
    "print(league_slugging.head())\n",
    "\n",
    "\n",
    "\n"
   ]
  },
  {
   "cell_type": "code",
   "execution_count": null,
   "id": "e966f7f1-8b24-4762-aeb9-1c27179276c0",
   "metadata": {},
   "outputs": [],
   "source": []
  }
 ],
 "metadata": {
  "kernelspec": {
   "display_name": "Python 3 (ipykernel)",
   "language": "python",
   "name": "python3"
  },
  "language_info": {
   "codemirror_mode": {
    "name": "ipython",
    "version": 3
   },
   "file_extension": ".py",
   "mimetype": "text/x-python",
   "name": "python",
   "nbconvert_exporter": "python",
   "pygments_lexer": "ipython3",
   "version": "3.12.3"
  }
 },
 "nbformat": 4,
 "nbformat_minor": 5
}
